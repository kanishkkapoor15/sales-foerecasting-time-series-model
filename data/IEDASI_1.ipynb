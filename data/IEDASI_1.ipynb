{
 "cells": [
  {
   "cell_type": "markdown",
   "metadata": {
    "id": "VHrEwyZeJq9X"
   },
   "source": [
    "# IE Predictive Analytics in Business \n"
   ]
  },
  {
   "cell_type": "markdown",
   "metadata": {
    "id": "xIY2NyczoD1D"
   },
   "source": [
    "## Module 4 Unit 2 IDE Practice notebook | Forecasting demand\n",
    "\n",
    "The aim of this activity is to provide a framework of the steps required to build a time-series forecasting model to predict demand. The code for each step has been written up for you to execute and is preceded by an explanation to guide you. \n",
    "\n",
    "The two models demonstrated in this activity are the following:\n",
    "\n",
    "1. Exponential smoothing \n",
    "2. Box-Jenkins \n",
    "\n",
    "Exponential smoothing is used to produce a 12-month daily sales forecast using the Holt-Winters method. The Box-Jenkins approach is used on monthly sales data to produce a longer-term two-year sales forecast. Recall that the Box-Jenkins approach includes all models using an autoregressive (AR) and moving average (MA) process, including the seasonal autoregressive integrated moving average (SARIMA) model."
   ]
  },
  {
   "cell_type": "markdown",
   "metadata": {
    "id": "A3-dOsI5Jq9d"
   },
   "source": [
    "### 1.&nbsp;Import libraries\n",
    "\n",
    "In addition to the main libraries used in previous modules, the `statsmodels` library is used in this notebook.\n",
    "\n"
   ]
  },
  {
   "cell_type": "code",
   "execution_count": null,
   "metadata": {
    "id": "0aDsBgjPJq9f"
   },
   "outputs": [],
   "source": [
    "import numpy as np\n",
    "import pandas as pd\n",
    "import matplotlib.pyplot as plt\n",
    "import matplotlib\n",
    "import matplotlib.dates as mdates\n",
    "from pylab import rcParams\n",
    "from math import sqrt\n",
    "from sklearn.metrics import mean_squared_error\n",
    "\n",
    "from statsmodels.tsa.seasonal import seasonal_decompose\n",
    "from statsmodels.tsa.stattools import adfuller\n",
    "from statsmodels.tsa.statespace.sarimax import SARIMAX\n",
    "from statsmodels.graphics.tsaplots import plot_acf, plot_pacf\n",
    "\n",
    "import pmdarima as pm\n",
    "\n",
    "import seaborn as sns\n",
    "\n",
    "from statsmodels.tsa.holtwinters import ExponentialSmoothing\n",
    "\n",
    "import warnings\n",
    "warnings.filterwarnings('ignore')"
   ]
  },
  {
   "cell_type": "markdown",
   "metadata": {
    "id": "4LCdY4C5pPOH"
   },
   "source": [
    "### 2.&nbsp;Load and explore data\n",
    "\n",
    "Once the required libraries have been loaded, the `flaer_sales.csv` data set for T-shirt sales at Flaer is loaded into a pandas data frame. Next, the `describe()`, `info()`, and `head()` methods are used to examine the data. The dates are also converted from a string (text) into a `datetime` object using the pandas `datetime()` method."
   ]
  },
  {
   "cell_type": "code",
   "execution_count": null,
   "metadata": {
    "id": "UynurFqSJq9h"
   },
   "outputs": [],
   "source": [
    "flaer_sales_data = pd.read_csv('flaer_sales.csv', sep=\",\")"
   ]
  },
  {
   "cell_type": "code",
   "execution_count": null,
   "metadata": {
    "id": "PW-WnQ02Jq9i",
    "outputId": "fcdf9469-193f-4bef-d65e-13cf7db44970"
   },
   "outputs": [],
   "source": [
    "flaer_sales_data.head()"
   ]
  },
  {
   "cell_type": "code",
   "execution_count": null,
   "metadata": {
    "id": "F6fKV7McrHsk"
   },
   "outputs": [],
   "source": [
    "flaer_sales_data['Date'] = pd.to_datetime(flaer_sales_data.Date)"
   ]
  },
  {
   "cell_type": "code",
   "execution_count": null,
   "metadata": {
    "id": "tr5-iO9iJq9j",
    "outputId": "51ebe278-115c-4b10-d505-f085a686d419"
   },
   "outputs": [],
   "source": [
    "flaer_sales_data.info()"
   ]
  },
  {
   "cell_type": "code",
   "execution_count": null,
   "metadata": {
    "id": "jZzxAeDQJq9k",
    "outputId": "3c05fc88-7c96-4c42-f22e-50d68de96398"
   },
   "outputs": [],
   "source": [
    "flaer_sales_data.describe()"
   ]
  },
  {
   "cell_type": "markdown",
   "metadata": {
    "id": "-JHUXXnPs4vT"
   },
   "source": [
    "> **Pause and reflect:**   \n",
    "What information can you gather about the data thus far? How does this data set differ from the other data sets used in this program?"
   ]
  },
  {
   "cell_type": "markdown",
   "metadata": {
    "id": "aOBntrNU_h7p"
   },
   "source": [
    "Next, you can plot the data using `matplotlib` to inspect the data visually. The sales data is recorded daily and the seasonality is based on the annual patterns. As the frequency is daily, it is set to `'D'`. If the data had a 12-month cycle, the frequency of the data set would be set to an annual start (`'AS'`); similarly, monthly data would be set to a monthly start (`'MS'`). "
   ]
  },
  {
   "cell_type": "code",
   "execution_count": null,
   "metadata": {
    "id": "jfBdL0MDJq9m"
   },
   "outputs": [],
   "source": [
    "plt.style.use('fivethirtyeight')\n",
    "matplotlib.rcParams['axes.labelsize'] = 14\n",
    "matplotlib.rcParams['xtick.labelsize'] = 12\n",
    "matplotlib.rcParams['ytick.labelsize'] = 12\n",
    "matplotlib.rcParams['text.color'] = 'k'"
   ]
  },
  {
   "cell_type": "code",
   "execution_count": null,
   "metadata": {
    "id": "_PNv8hWsJq9n",
    "outputId": "9e175830-86f9-46fb-d262-c7b965329d5f"
   },
   "outputs": [],
   "source": [
    "y = flaer_sales_data['QuantitySold']\n",
    "y.index.freq = 'D'\n",
    "y.index = flaer_sales_data['Date']\n",
    "y.plot(figsize=(15, 6))\n",
    "plt.show()"
   ]
  },
  {
   "cell_type": "markdown",
   "metadata": {
    "id": "zRvjo2GBfSVK"
   },
   "source": [
    "#### 2.1&nbsp;Decompose time-series data\n",
    "\n",
    "The `stats_model` `seasonal_decompose` method is used to decompose the observed data into the trend and seasonality (if seasonality applies to the data set). Recall a time series can be seasonally decomposed using two approaches:\n",
    "1. **Additive decomposition:** The time-series data is expressed as a function of the sum of its components.\n",
    "2. **Multiplicative decomposition:** The time-series data is expressed as a function of the product of its components.\n",
    "\n",
    "The Flaer sales data is decomposed using the additive approach. "
   ]
  },
  {
   "cell_type": "code",
   "execution_count": null,
   "metadata": {
    "id": "IUmuIeFMrHsq",
    "outputId": "2679d26b-acc5-4ec5-8cf7-9bf85a670f58"
   },
   "outputs": [],
   "source": [
    "flaer_sales_data.index.freq = 'D'\n",
    "rcParams['figure.figsize'] = 18, 12\n",
    "rcParams['figure.autolayout'] = True\n",
    "decomposition = seasonal_decompose(flaer_sales_data['QuantitySold'], period=365, model='additive')\n",
    "\n",
    "decomposition.plot()\n",
    "plt.show()"
   ]
  },
  {
   "cell_type": "markdown",
   "metadata": {
    "id": "qVqtOy2ofSVL"
   },
   "source": [
    "The first chart or **observed** chart shows the actual observations per day.\n",
    "\n",
    "The **trend** refers to the general direction in which the time series moves over time. In the trend chart, the sales trend has been moving upward linearly over the given time period.\n",
    "\n",
    "**Seasonality** refers to the rise and fall of data at consistent frequencies. In the seasonal chart, there is a clear seasonal pattern in an annual cycle with a slight peak in October and a higher peak in September.\n",
    "\n",
    "The **residual** refers to what is left over if the trend and seasonality components are removed. As with linear regression, the residuals should be random and centered around zero.\n",
    "\n",
    "If the magnitude of the seasonal trend remains constant, the data is considered to be additive."
   ]
  },
  {
   "cell_type": "markdown",
   "metadata": {
    "id": "SypZMXFCJq9r"
   },
   "source": [
    "### 3.&nbsp;Prepare the data\n",
    "\n",
    "The `QuantitySold` input variable is renamed to `Sales Actual` and differencing is applied to stabilize the mean. "
   ]
  },
  {
   "cell_type": "code",
   "execution_count": null,
   "metadata": {
    "id": "teABa4VHJq9r"
   },
   "outputs": [],
   "source": [
    "flaer_sales_data = flaer_sales_data.set_index('Date')\n",
    "flaer_sales_data = flaer_sales_data.rename(columns={'QuantitySold': 'Sales Actual'})"
   ]
  },
  {
   "cell_type": "code",
   "execution_count": null,
   "metadata": {
    "id": "b8PqUiNYJq9x",
    "outputId": "1eaace49-b161-4729-c7da-a9277d268ed4"
   },
   "outputs": [],
   "source": [
    "flaer_sales_data['Sales Actual Adj.'] = flaer_sales_data['Sales Actual'].diff(365).diff().dropna()\n",
    "flaer_sales_data.head(367)"
   ]
  },
  {
   "cell_type": "markdown",
   "metadata": {
    "id": "1OXi2ACBpM3W"
   },
   "source": [
    "> **Visualize transformed data:**  \n",
    "Execute the following code to visualize how seasonality was removed by differencing the data."
   ]
  },
  {
   "cell_type": "code",
   "execution_count": null,
   "metadata": {
    "id": "QHMFTQwppM3W",
    "outputId": "45bf3d42-9b9b-49e1-bfe6-a09ecc30d485"
   },
   "outputs": [],
   "source": [
    "flaer_sales_data['Sales Actual Adj.'].plot(figsize=(15, 6))\n",
    "plt.show()"
   ]
  },
  {
   "cell_type": "markdown",
   "metadata": {
    "id": "VJQHiH0iJq9s"
   },
   "source": [
    "The sales data is split into training and test data using an 80:20 split. The first 1,461 records are used to train the model and the remaining 364 records are used to test the model."
   ]
  },
  {
   "cell_type": "code",
   "execution_count": null,
   "metadata": {
    "id": "mOQkVZO0Jq9s"
   },
   "outputs": [],
   "source": [
    "train_sales = flaer_sales_data[:1461] \n",
    "test_sales = flaer_sales_data[1462:]"
   ]
  },
  {
   "cell_type": "code",
   "execution_count": null,
   "metadata": {
    "id": "cWQNAj2j_h7t",
    "outputId": "8ac4d919-453a-46db-eecb-dc68ea58d1d6"
   },
   "outputs": [],
   "source": [
    "train_sales.head()"
   ]
  },
  {
   "cell_type": "markdown",
   "metadata": {
    "id": "1LG5j3jnJq9u"
   },
   "source": [
    "### 4.&nbsp;Modeling\n",
    "\n",
    "Exponential smoothing using the Holt-Winters method is applied to the daily time-series data because it has an upward trend and seasonality features. The forecast aims to provide a medium-term daily view of the sales volumes. Box-Jenkins is used for a longer-term monthly sales forecast."
   ]
  },
  {
   "cell_type": "markdown",
   "metadata": {
    "id": "0X6_XGt4qfym"
   },
   "source": [
    "#### 4.1 Exponential smoothing using Holt-Winters"
   ]
  },
  {
   "cell_type": "markdown",
   "metadata": {
    "id": "6fL9sPcHyH-W"
   },
   "source": [
    "The data is fitted to a model using the Holt-Winters method and plotted to show the actual vs. predicted trend. Holt-Winters is a simple time-series forecasting model that can be used to forecast data with a trend and seasonal component."
   ]
  },
  {
   "cell_type": "code",
   "execution_count": null,
   "metadata": {
    "id": "VihmmY1GJq9v"
   },
   "outputs": [],
   "source": [
    "fitted_model = ExponentialSmoothing(train_sales['Sales Actual'],trend='add',seasonal='add',seasonal_periods=365).fit()\n",
    "test_predictions = fitted_model.forecast(len(test_sales))"
   ]
  },
  {
   "cell_type": "code",
   "execution_count": null,
   "metadata": {
    "id": "OrhuCORufSVO",
    "outputId": "06a2e9fe-fda1-4927-bbf4-5afb93af24d5"
   },
   "outputs": [],
   "source": [
    "train_sales['Sales Actual'].plot(legend=True,label='Train Sales', figsize=(15, 6))\n",
    "test_sales['Sales Actual'].plot(legend=True,label='Test Sales', figsize=(15, 6))\n",
    "test_predictions.plot(legend=True,label='Forecast Sales')\n",
    "\n",
    "plt.title('Train, Test and Predicted Test using Holt Winters Exponential Smoothing')"
   ]
  },
  {
   "cell_type": "markdown",
   "metadata": {
    "id": "o_Tx0L4fJq9v"
   },
   "source": [
    "By inspecting the graph visually, the forecast appears to be a good fit to the actual sales volume in the test set.  \n",
    "\n",
    "To further assess the performance of the model, the mean absolute percentage error (MAPE) and root mean square error (RMSE) are used as accuracy metrics.  The `get_mape` function will calculate the MAPE, and the `mean_squared_error` from sklearn is used to calculate the RMSE."
   ]
  },
  {
   "cell_type": "code",
   "execution_count": null,
   "metadata": {
    "id": "QWJZtNK7_h7v"
   },
   "outputs": [],
   "source": [
    "def get_mape(actual, predicted):\n",
    "    return np.round(np.mean(np.abs((actual-predicted) / actual))*100,2)"
   ]
  },
  {
   "cell_type": "code",
   "execution_count": null,
   "metadata": {
    "id": "FhL0bfNB_h7v"
   },
   "outputs": [],
   "source": [
    "hw_mape = get_mape(test_sales['Sales Actual'], test_predictions)\n",
    "hw_rmse = sqrt(mean_squared_error(test_sales['Sales Actual'], test_predictions))"
   ]
  },
  {
   "cell_type": "code",
   "execution_count": null,
   "metadata": {
    "id": "uA0StWBw_h7v",
    "outputId": "a269056b-1608-44c6-a8d2-fada8bff4287"
   },
   "outputs": [],
   "source": [
    "model_performance = {'Model': ['Holt-Winters'], \n",
    "                     'MAPE': hw_mape,\n",
    "                     'RMSE': hw_rmse}\n",
    "\n",
    "df_model_results = pd.DataFrame(data=model_performance)\n",
    "df_model_results"
   ]
  },
  {
   "cell_type": "markdown",
   "metadata": {
    "id": "stX9mkOsJq9w"
   },
   "source": [
    "#### 4.2 Box-Jenkins\n",
    "Recall that the Box-Jenkins approach has three steps:  \n",
    "\n",
    "1. Identification\n",
    "2. Estimation\n",
    "3. Validation\n",
    "\n"
   ]
  },
  {
   "cell_type": "markdown",
   "metadata": {
    "id": "4PVv5f14rHsu"
   },
   "source": [
    "For the Box-Jenkins approach, the Flaer sales data has been aggregated at monthly intervals. The data is loaded and the same steps applied to the daily data set are used to prepare the monthly sales data. The monthly data is also decomposed and plotted to assess seasonality and trend."
   ]
  },
  {
   "cell_type": "code",
   "execution_count": null,
   "metadata": {
    "id": "XWhdYlnqrHsv"
   },
   "outputs": [],
   "source": [
    "flaer_sales_monthly_data = pd.read_csv('flaer_sales_monthly.csv', sep=\",\")\n",
    "flaer_sales_monthly_data['SalesMonth'] = pd.to_datetime(flaer_sales_monthly_data.SalesMonth)\n",
    "flaer_sales_monthly_data = flaer_sales_monthly_data.set_index('SalesMonth')"
   ]
  },
  {
   "cell_type": "code",
   "execution_count": null,
   "metadata": {
    "id": "x8Z_VbNkrHsv",
    "outputId": "0329badf-1f73-4fdf-d1a7-9f618662dbb8"
   },
   "outputs": [],
   "source": [
    "flaer_sales_monthly_data.index.freq = 'MS'\n",
    "flaer_sales_monthly_data = flaer_sales_monthly_data.rename(columns={'QuantitySold': 'Sales Actual'})\n",
    "rcParams['figure.figsize'] = 18, 12\n",
    "rcParams['figure.autolayout'] = True\n",
    "decomposition = seasonal_decompose(flaer_sales_monthly_data['Sales Actual'], period=12, model='additive')\n",
    "\n",
    "decomposition.plot()\n",
    "plt.show()"
   ]
  },
  {
   "cell_type": "markdown",
   "metadata": {
    "id": "nWnl24KrrHsv"
   },
   "source": [
    "The monthly sales data appears to have both an upward linear trend and a clear seasonal pattern. This can be confirmed using the three steps of the Box-Jenkins approach."
   ]
  },
  {
   "cell_type": "markdown",
   "metadata": {
    "id": "b-TnVmamql8G"
   },
   "source": [
    "##### 4.2.1 Model identification\n",
    "\n",
    "The identification phase determines if the data is stationary. If the data is non-stationary, a transformation is required. The first step is to generate an autocorrelation plot to assess if the data is non-stationary. "
   ]
  },
  {
   "cell_type": "code",
   "execution_count": null,
   "metadata": {
    "id": "7NDq8IWUJq9w",
    "outputId": "f948808d-709f-4c6d-9d95-b115123621fc"
   },
   "outputs": [],
   "source": [
    "auto_correlation = plot_acf(flaer_sales_monthly_data['Sales Actual'], lags=12)\n",
    "partial_auto_correlation = plot_pacf(flaer_sales_monthly_data['Sales Actual'], lags=12)"
   ]
  },
  {
   "cell_type": "markdown",
   "metadata": {
    "id": "OeBZ9t4AJq9w"
   },
   "source": [
    "Analyzing the partial autocorrelation graph shows lag values outside the confidence interval area (shaded blue). If the data was stationary, the lag values would be within the blue shaded area.  \n",
    "\n",
    "Applying the Augmented Dickey-Fuller (ADF) test will provide further evidence if the data is non-stationary. ADF tests the null hypothesis that the data is non-stationary. A *p*-value below the acceptable threshold of 0.05 (for the purpose of this example) will reject this null hypothesis and assume the data is stationary."
   ]
  },
  {
   "cell_type": "markdown",
   "metadata": {
    "id": "rQlT25qAfSVQ"
   },
   "source": [
    "###### 4.2.1.1&nbsp; The Augmented Dickey-Fuller test"
   ]
  },
  {
   "cell_type": "code",
   "execution_count": null,
   "metadata": {
    "id": "o3eB_3fhJq9x",
    "outputId": "100352a3-315b-47c5-f288-a77c3a223f87"
   },
   "outputs": [],
   "source": [
    "dftest = adfuller(flaer_sales_monthly_data['Sales Actual'])\n",
    "dfoutput = pd.Series(dftest[0:4], index=['Test Statistic','p-value','#Lags Used','Number of Observations Used'])\n",
    "for key, value in dftest[4].items():\n",
    "    dfoutput['Critical Value (%s)'%key] = value\n",
    "print(dfoutput)"
   ]
  },
  {
   "cell_type": "markdown",
   "metadata": {
    "id": "XCgil4ZfJq9x"
   },
   "source": [
    "The null hypothesis can be rejected at different critical value thresholds. If the test statistic is less than the 5% threshold but not the 1% threshold, then the null hypothesis is rejected at the 5% threshold. Similarly, if the *p*-value is less than the threshold of 0.05, the null hypothesis will be rejected. However, in this case, the test statistic and *p*-value are greater than the thresholds. Therefore, in this example, the null hypothesis will not be rejected, and you can assume that the data is non-stationary. "
   ]
  },
  {
   "cell_type": "markdown",
   "metadata": {
    "id": "LJwbxVE8_h7y"
   },
   "source": [
    "A transformation will need to be applied to make the data stationary. To do so, the `diff(12)` and `diff()` pandas methods are applied to remove the seasonality (12 months) and trend aspects of the data, respectively."
   ]
  },
  {
   "cell_type": "code",
   "execution_count": null,
   "metadata": {
    "id": "QA6n-kHZ_h7y"
   },
   "outputs": [],
   "source": [
    "flaer_sales_monthly_data_diff = flaer_sales_monthly_data['Sales Actual'].diff(12).diff().dropna()"
   ]
  },
  {
   "cell_type": "code",
   "execution_count": null,
   "metadata": {
    "id": "UvFhJmuTJq9x",
    "outputId": "52e38896-d4e9-4d64-ced2-291cc540cd4b"
   },
   "outputs": [],
   "source": [
    "flaer_sales_monthly_data_diff.plot(figsize=(15, 6))\n",
    "plt.show()"
   ]
  },
  {
   "cell_type": "markdown",
   "metadata": {
    "id": "W8k_pJyofSVR"
   },
   "source": [
    "The distribution of the differencing data does not appear to be seasonal or have a trend. The ADF test is conducted to verify that this is the case."
   ]
  },
  {
   "cell_type": "code",
   "execution_count": null,
   "metadata": {
    "id": "XqrThqOZJq9y",
    "outputId": "d9b48609-9d56-4143-c4a6-6e5b85ce3a5a"
   },
   "outputs": [],
   "source": [
    "dftest = adfuller(flaer_sales_monthly_data_diff)\n",
    "dfoutput = pd.Series(dftest[0:4], index=['Test Statistic','p-value','#Lags Used','Number of Observations Used'])\n",
    "for key, value in dftest[4].items():\n",
    "    dfoutput['Critical Value (%s)'%key] = value\n",
    "print(dfoutput)"
   ]
  },
  {
   "cell_type": "markdown",
   "metadata": {
    "id": "EQGSlQuhJq9y"
   },
   "source": [
    "The *p*-value is less than the threshold and the differenced data is therefore assumed to be stationary."
   ]
  },
  {
   "cell_type": "markdown",
   "metadata": {
    "id": "7gpAmLi7rHsz"
   },
   "source": [
    "##### 4.2.2 Splitting the data into training and test sets\n",
    "\n",
    "The monthly sales data is split into the training and test data sets using three years of the data for training and the last two years of data for testing."
   ]
  },
  {
   "cell_type": "code",
   "execution_count": null,
   "metadata": {
    "id": "eiOotIcbrHsz"
   },
   "outputs": [],
   "source": [
    "train_sales_monthly = flaer_sales_monthly_data[:36] \n",
    "test_sales_monthly = flaer_sales_monthly_data[37:]"
   ]
  },
  {
   "cell_type": "markdown",
   "metadata": {
    "id": "1cyDJU0oJq9y"
   },
   "source": [
    "##### 4.2.3 Parameter selection\n",
    "\n",
    "During the model estimation step, the `auto_arima` method is used to select the best parameters for the SARIMA model. Then, the best values for `p`, `d`, `P`, and `D` are determined by assessing the Akaike information criterion (AIC) score. The combination with the lowest AIC score is selected. As the decomposed trend line is linear and constant over time, the `trend='c'` parameter is passed into the `auto_arima` method."
   ]
  },
  {
   "cell_type": "code",
   "execution_count": null,
   "metadata": {
    "id": "-2DOKsiWCy9J",
    "outputId": "913b13e4-bff6-41cd-fe41-18a3148fce35"
   },
   "outputs": [],
   "source": [
    "model = pm.auto_arima(train_sales_monthly['Sales Actual'], d=1, D=1,\n",
    "                      m=12, seasonal=True, trend='c',\n",
    "                      start_p=0, start_q=0, test='adf', \n",
    "                      stepwise=True, trace=True)"
   ]
  },
  {
   "cell_type": "markdown",
   "metadata": {
    "id": "GFjvaKiXfSVS"
   },
   "source": [
    "The lowest AIC score is 562.211. Therefore, the best model parameters are `ARIMA(0,1,0)(0,1,0)[12]`. Using these parameters, a SARIMA model is fitted to the training data. "
   ]
  },
  {
   "cell_type": "code",
   "execution_count": null,
   "metadata": {
    "id": "-j3r21ChJq9y",
    "outputId": "6698b622-eb43-4180-9cfe-3d4da1c05333"
   },
   "outputs": [],
   "source": [
    "model = SARIMAX(train_sales_monthly['Sales Actual'],\n",
    "                order=(0,1,0),seasonal_order=(0,1,0,12))\n",
    "results = model.fit(disp=0)\n",
    "results.summary()"
   ]
  },
  {
   "cell_type": "markdown",
   "metadata": {
    "id": "0s61dvSAmBa6"
   },
   "source": [
    "> **Note:** \n",
    "The `[1] Covariance matrix calculated using the outer product of gradients (complex-step).` warning is a note describing how the covariance matrix was calculated. This can be ignored."
   ]
  },
  {
   "cell_type": "markdown",
   "metadata": {
    "id": "tLqipFkcJq90"
   },
   "source": [
    "##### 4.2.4 Model validation"
   ]
  },
  {
   "cell_type": "markdown",
   "metadata": {
    "id": "Z4Qi9tMUDf9Q"
   },
   "source": [
    "For the model validation step, the diagnostics of the forecast results are plotted to analyze the distribution of the residual values. "
   ]
  },
  {
   "cell_type": "code",
   "execution_count": null,
   "metadata": {
    "id": "lFPjTa_SJq90",
    "outputId": "419c9376-c0f5-41ed-96f5-cee5f83b6b9c"
   },
   "outputs": [],
   "source": [
    "results.plot_diagnostics(figsize=(16, 8))\n",
    "plt.show()"
   ]
  },
  {
   "cell_type": "markdown",
   "metadata": {
    "id": "gP5ONof6Jq90"
   },
   "source": [
    "The **standardized residual for \"S\"** plot shows the residuals of the forecast. The distribution represents white noise and features a clear seasonal pattern.\n",
    "\n",
    "The **histogram** shows that the residuals are somewhat normally distributed.\n",
    "\n",
    "Similarly, the ordered distribution of the residuals is plotted in the **Normal Q-Q** chart and illustrates an upward linear trend.\n",
    "\n",
    "The **correlogram** shows that the residuals have a low correlation with the lagged versions.\n",
    "\n",
    "Based on these charts, it appears that the residuals follow a somewhat normal distribution with a low correlation to the lagged versions. These results indicate that the model is a good fit.\n",
    "\n"
   ]
  },
  {
   "cell_type": "markdown",
   "metadata": {
    "id": "AxvRSHydyPvB"
   },
   "source": [
    "##### 4.2.5 Plot the results\n",
    "\n",
    "Plotting the actual sales vs. the forecast values provides a visual of the model's performance."
   ]
  },
  {
   "cell_type": "code",
   "execution_count": null,
   "metadata": {
    "id": "brx-iLpJfSVT",
    "outputId": "e30223df-7543-40a5-abdd-3cd50eec9a59"
   },
   "outputs": [],
   "source": [
    "flaer_sales_data_monthly_quantity = flaer_sales_monthly_data.drop('AvgTemperatureMonthCelsius', axis = 1)\n",
    "forecast_object = results.get_forecast(steps=len(test_sales_monthly))\n",
    "mean = forecast_object.predicted_mean\n",
    "conf_int = forecast_object.conf_int()\n",
    "dates = mean.index\n",
    "\n",
    "ax = flaer_sales_data_monthly_quantity.plot(label='observed')\n",
    "mean.plot(ax=ax, label='Sales Forecast', alpha=.7, figsize=(14, 7))\n",
    "\n",
    "ax.fill_between(conf_int.index,\n",
    "                conf_int.iloc[:, 0],\n",
    "                conf_int.iloc[:, 1], color='k', alpha=.2)\n",
    "ax.set_xlabel('Month')\n",
    "ax.set_ylabel('Sales')\n",
    "plt.legend()\n",
    "plt.show()"
   ]
  },
  {
   "cell_type": "markdown",
   "metadata": {
    "id": "OM3LzoPUfSVT"
   },
   "source": [
    "Based on this visualization, the model appears to be a good fit.  The `MAPE` and the `RMSE` accuracy metrics are used to assess the model's performance."
   ]
  },
  {
   "cell_type": "code",
   "execution_count": null,
   "metadata": {
    "id": "hYbZll4YrHs1"
   },
   "outputs": [],
   "source": [
    "df_results = pd.concat([test_sales_monthly, forecast_object.predicted_mean], axis=1).dropna()\n",
    "df_results = df_results.rename(columns={'predicted_mean': 'Sales Forecast'})"
   ]
  },
  {
   "cell_type": "code",
   "execution_count": null,
   "metadata": {
    "id": "uaDwovNJ_h72",
    "outputId": "e8e16754-f7da-47f8-a594-57f0eade8b38"
   },
   "outputs": [],
   "source": [
    "bj_mape = get_mape(df_results['Sales Actual'], df_results['Sales Forecast'])\n",
    "bj_rmse = sqrt(mean_squared_error(df_results['Sales Actual'], df_results['Sales Forecast']))\n",
    "model_performance = {'Model': ['Box Jenkins'], \n",
    "                     'MAPE': bj_mape,\n",
    "                     'RMSE': bj_rmse}\n",
    "\n",
    "df_model_results = df_model_results.append(pd.DataFrame(data=model_performance))\n",
    "df_model_results"
   ]
  },
  {
   "cell_type": "markdown",
   "metadata": {
    "id": "ZOuabsl2_h72"
   },
   "source": [
    "The Box-Jenkins model performs better than the Holt-Winters based on the MAPE values.  However, these models used different data over different time horizons and should not be directly compared. The RMSE is higher for the Box-Jenkins model as the data was aggregated into monthly buckets, while the Holt-Winters method used daily data. "
   ]
  },
  {
   "cell_type": "markdown",
   "metadata": {
    "id": "Db6__xFMyoDw"
   },
   "source": [
    "If you have any questions about the process of forecasting seasonal demand, you can submit them for the live session."
   ]
  }
 ],
 "metadata": {
  "colab": {
   "collapsed_sections": [],
   "name": "IE DAS M4U2 IDE Practice notebook_v19_ed.ipynb",
   "provenance": []
  },
  "kernelspec": {
   "display_name": "DAS",
   "language": "python",
   "name": "ieu-das"
  },
  "language_info": {
   "codemirror_mode": {
    "name": "ipython",
    "version": 3
   },
   "file_extension": ".py",
   "mimetype": "text/x-python",
   "name": "python",
   "nbconvert_exporter": "python",
   "pygments_lexer": "ipython3",
   "version": "3.9.6"
  }
 },
 "nbformat": 4,
 "nbformat_minor": 1
}
